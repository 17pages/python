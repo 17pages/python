{
 "cells": [
  {
   "cell_type": "markdown",
   "metadata": {},
   "source": [
    "### 학습목표\n",
    " 1. 클래스와 오브젝트에 대한 이해"
   ]
  },
  {
   "cell_type": "markdown",
   "metadata": {},
   "source": [
    "#### **class란?**\n",
    " + 실세계의 것을 모델링하여 속성(attribute)와 동작(method)를 갖는 데이터 타입 : 속성(변수), 동작(메서드)\n",
    " + python에서의 string, int, list, dict.. 모두가 다 클래스로 존재\n",
    " + 학생 Type을 사용하고 싶은데 기본적으로 프로그래밍 언어에서 제공하는 Type에는 내입맞에 맞는 타입이 존재하지 ㅇ낳음. 고로 내가 class를 사용하여 직접 학생 Type를 정의해서 사용하는 것\n",
    " + 예를 들어 학생이라는 클래스를 만든다면, 학생을 나타내는 속성과 학생이 행하는 행동을 함께 정의 할 수 있음\n",
    " + 따라서, 다루고자 하는 데이터(변수)와 데이터를 다루는 연산(함수)를 하나로 캡슐화(encapsulation)하여 클래스로 표현\n",
    " + 모델링에서 중요시 하는 속성에 따라 클래스의 속성과 행동이 각각 달라짐"
   ]
  },
  {
   "cell_type": "code",
   "execution_count": 1,
   "metadata": {},
   "outputs": [
    {
     "name": "stdout",
     "output_type": "stream",
     "text": [
      "[1, 2, 3, 4, 5]\n"
     ]
    }
   ],
   "source": [
    "a = [1, 2, 3, 4]\n",
    "a.append(5)\n",
    "print(a)"
   ]
  },
  {
   "cell_type": "markdown",
   "metadata": {},
   "source": [
    "# **object 란?**\n",
    "클래스로 생성되어 구체화된 객체(인스턴스)\n",
    "파이썬의 모든 것(int, str, list..etc)은 객체(인스턴스)\n",
    "실제로 class가 인스턴스화 되어 메모리에 상주하는 상태를 의미\n",
    "class가 빵틀이라면, object는 실제로 빵틀로 찍어낸 빵이라고 비유 가능"
   ]
  },
  {
   "cell_type": "markdown",
   "metadata": {},
   "source": [
    "#### **객체사용 3단계**\n",
    "1. Class 설계\n",
    "''' python\n",
    "class Test:\n",
    "    def resultPrint(name):\n",
    "        print(name)\n",
    "'''\n",
    "\n",
    "2. 객체생성(인스턴스)\n",
    "\n",
    "'''python\n",
    "test = Test()\n",
    "'''\n",
    "\n",
    "3. 인스턴스 사용\n",
    "'''python\n",
    "test.resultPrint('초롱')\n",
    "'''"
   ]
  },
  {
   "cell_type": "markdown",
   "metadata": {},
   "source": [
    "#### Class로 만든 객체를 인스턴스라고 한다. 그렇다면 객체와 인스턴스의 차이는 무엇일까?\n",
    "\n",
    "a = Cookie() 이렇게 만든 a는 객체이다. 그리고 a객체는 Cookie의 인스턴스이다.\n",
    "즉 인스턴스라는 말은 특정 객체(a)가 어떤 클래스(Cookie)의 객체인지를 관계 위주로 설명할 때 사용한다. \n",
    "'a는 인스턴스'보다는 '**a는 객체**'라는 표현이 어울린다.\n",
    "'a는 Cookie의 객체'보다는 '**a는 Cookie의 인스턴스**'라는 표현이 훨씬 잘 어울린다."
   ]
  },
  {
   "cell_type": "markdown",
   "metadata": {},
   "source": [
    "#### **class 선언하기**\n",
    " - 객체를 생성하기 위해선 객체의 모체가 되는 class를 미리 선언해야 함"
   ]
  },
  {
   "cell_type": "code",
   "execution_count": 3,
   "metadata": {},
   "outputs": [],
   "source": [
    "class Person:\n",
    "    pass #class만 만들어두고 아직 내용문 작성 뭐라고 할지 안결정했을때는 반드시 pass를 써줘야 함. "
   ]
  },
  {
   "cell_type": "code",
   "execution_count": 2,
   "metadata": {},
   "outputs": [
    {
     "data": {
      "text/plain": [
       "'초롱'"
      ]
     },
     "execution_count": 2,
     "metadata": {},
     "output_type": "execute_result"
    }
   ],
   "source": [
    "class Test:\n",
    "    def __init__(self): #()가 있다는것은 매서드.. class안의 매서드는 반드시 self를 받아야 함. #__init__이 생성자임\n",
    "        self.name = '초롱'\n",
    "        \n",
    "test = Test() #객체생성, 호출할때는 class이름을 가져다 씀. \n",
    "test.name #객체변수 접근 가능 #가로가 없으면 변수"
   ]
  },
  {
   "cell_type": "code",
   "execution_count": 4,
   "metadata": {},
   "outputs": [
    {
     "name": "stdout",
     "output_type": "stream",
     "text": [
      "<class '__main__.Person'> <class '__main__.Person'>\n",
      "<class 'list'> <class 'list'>\n"
     ]
    }
   ],
   "source": [
    "bob = Person()\n",
    "cathy = Person()\n",
    "\n",
    "a = list()\n",
    "b = list()\n",
    "\n",
    "print(type(bob), type(cathy))\n",
    "print(type(a), type(b))"
   ]
  },
  {
   "cell_type": "markdown",
   "metadata": {},
   "source": [
    "#### \\_\\_init__(self) : 생성자()\n",
    " + 생성자, 클래스 인스턴스가 생성될 때 호출됨(객체 생성시)\n",
    " + self인자는 항상 첫번째에 오며 자기 자신을 가리킴\n",
    " + 이름이 꼭 self일 필요는 없지만, 관례적으로 self로 사용\n",
    " + 클래스 내에만 올 수 있음\n",
    " \n",
    " + 생성자에서는 해당 클래스가 다루는 데이터를 정의\n",
    "   - 이 데이터를 멤버 변수(member variable) 또는 속성(attribute)라고 함\n",
    " + 객체 생성시 변수초기화나, 메서드 실행 등을 할때 사용(slef.메서드명())\n",
    " + 상속받았을 때 부모 Class의 메서드도 사용 가능\n",
    " + JAVA와는 달리 메서드 오버로딩 기능 없음(2개의 생성자가 있다면 매개변수가 있는 것으로만 작동됨)"
   ]
  },
  {
   "cell_type": "code",
   "execution_count": null,
   "metadata": {},
   "outputs": [],
   "source": []
  },
  {
   "cell_type": "code",
   "execution_count": null,
   "metadata": {},
   "outputs": [],
   "source": []
  },
  {
   "cell_type": "code",
   "execution_count": null,
   "metadata": {},
   "outputs": [],
   "source": []
  },
  {
   "cell_type": "code",
   "execution_count": null,
   "metadata": {},
   "outputs": [],
   "source": []
  },
  {
   "cell_type": "code",
   "execution_count": null,
   "metadata": {},
   "outputs": [],
   "source": []
  },
  {
   "cell_type": "code",
   "execution_count": null,
   "metadata": {},
   "outputs": [],
   "source": []
  },
  {
   "cell_type": "code",
   "execution_count": null,
   "metadata": {},
   "outputs": [],
   "source": []
  }
 ],
 "metadata": {
  "kernelspec": {
   "display_name": "Python 3",
   "language": "python",
   "name": "python3"
  },
  "language_info": {
   "codemirror_mode": {
    "name": "ipython",
    "version": 3
   },
   "file_extension": ".py",
   "mimetype": "text/x-python",
   "name": "python",
   "nbconvert_exporter": "python",
   "pygments_lexer": "ipython3",
   "version": "3.7.6"
  }
 },
 "nbformat": 4,
 "nbformat_minor": 4
}
